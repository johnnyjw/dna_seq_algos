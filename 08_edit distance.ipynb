{
 "cells": [
  {
   "cell_type": "code",
   "execution_count": 5,
   "id": "bcec5e1a",
   "metadata": {},
   "outputs": [],
   "source": [
    "def recEditDistance(x, y):\n",
    "    if len(x) == 0:\n",
    "        return len(y)\n",
    "    if len(y) == 0:\n",
    "        return len(x)\n",
    "    \n",
    "    delt = 1 if x[-1] != y[-1] else 0\n",
    "    return(min(recEditDistance(x[:-1], y[:-1]) + delt,\n",
    "              recEditDistance(x[:-1], y) + 1,\n",
    "               recEditDistance(x, y[:-1]) + 1,\n",
    "          ))"
   ]
  },
  {
   "cell_type": "code",
   "execution_count": 16,
   "id": "8e09e772",
   "metadata": {},
   "outputs": [],
   "source": [
    "def editDistance(x, y):\n",
    "    D = []\n",
    "    # initialising an array to cover the two strings to compare - filled with 0's\n",
    "    for i in range(len(x)+1):\n",
    "        D.append([0]* (len(y)+1))\n",
    "        \n",
    "    #fill the first row and col\n",
    "    for i in range(len(x)+1):\n",
    "        D[i][0] = i\n",
    "    for i in range(len(y)+1):\n",
    "        D[0][i] = i\n",
    "    \n",
    "    # start filling rest of matrix\n",
    "    for i in range(1, len(x)+1):\n",
    "        for j in range(1, len(y)+1):\n",
    "            distHor = D[i][j-1] + 1\n",
    "            distVer = D[i-1][j] + 1\n",
    "            if x[i-1] == y[j-1]:\n",
    "                distDiag = D[i-1][j-1]\n",
    "            else:\n",
    "                distDiag = D[i-1][j-1] + 1\n",
    "            D[i][j] = min(distHor, distVer, distDiag)  \n",
    "    return(D[-1][-1])"
   ]
  },
  {
   "cell_type": "code",
   "execution_count": 6,
   "id": "a6a8f111",
   "metadata": {},
   "outputs": [
    {
     "name": "stdout",
     "output_type": "stream",
     "text": [
      "3\n",
      "Wall time: 4.92 s\n"
     ]
    }
   ],
   "source": [
    "%%time\n",
    "x = \"shake spea\"\n",
    "y = \"Shakespear\"\n",
    "print(recEditDistance(x,y))"
   ]
  },
  {
   "cell_type": "code",
   "execution_count": 17,
   "id": "043af83d",
   "metadata": {},
   "outputs": [
    {
     "name": "stdout",
     "output_type": "stream",
     "text": [
      "3\n",
      "Wall time: 1 ms\n"
     ]
    }
   ],
   "source": [
    "%%time\n",
    "x = \"shake spea\"\n",
    "y = \"Shakespear\"\n",
    "print(editDistance(x,y))"
   ]
  },
  {
   "cell_type": "code",
   "execution_count": null,
   "id": "c558629e",
   "metadata": {},
   "outputs": [],
   "source": []
  }
 ],
 "metadata": {
  "kernelspec": {
   "display_name": "Python 3",
   "language": "python",
   "name": "python3"
  },
  "language_info": {
   "codemirror_mode": {
    "name": "ipython",
    "version": 3
   },
   "file_extension": ".py",
   "mimetype": "text/x-python",
   "name": "python",
   "nbconvert_exporter": "python",
   "pygments_lexer": "ipython3",
   "version": "3.8.8"
  }
 },
 "nbformat": 4,
 "nbformat_minor": 5
}
