{
 "cells": [
  {
   "cell_type": "code",
   "execution_count": 1,
   "id": "400d5ce7",
   "metadata": {},
   "outputs": [],
   "source": [
    "import bisect"
   ]
  },
  {
   "cell_type": "code",
   "execution_count": 8,
   "id": "af15d9af",
   "metadata": {},
   "outputs": [],
   "source": [
    "class Index(object):\n",
    "    def __init__(self, t, k):\n",
    "        self.k = k\n",
    "        self.index = []\n",
    "        for i in range(len(t) - k + 1):\n",
    "            self.index.append((t[i:i+k], i))\n",
    "        self.index.sort()\n",
    "        \n",
    "    def query(self, p):\n",
    "        kmer = p[:self.k]\n",
    "        i = bisect.bisect_left(self.index, (kmer, -1))\n",
    "        hits = []\n",
    "        while i < len(self.index):\n",
    "            if self.index[i][0] != kmer:\n",
    "                break\n",
    "            hits.append(self.index[i][1])\n",
    "            i += 1\n",
    "        return hits"
   ]
  },
  {
   "cell_type": "code",
   "execution_count": 9,
   "id": "d37d87f6",
   "metadata": {},
   "outputs": [],
   "source": [
    "def queryIndex(p, t, index):\n",
    "    k = index.k\n",
    "    offsets = []\n",
    "    for i in index.query(p):\n",
    "        if p[k:] == t[i+k:i+len(p)]:\n",
    "            offsets.append(i)\n",
    "    return offsets"
   ]
  },
  {
   "cell_type": "code",
   "execution_count": 10,
   "id": "4efa04aa",
   "metadata": {},
   "outputs": [],
   "source": [
    "t = 'GCTACGATCTAGAATCTA'\n",
    "p = 'TCTA'"
   ]
  },
  {
   "cell_type": "code",
   "execution_count": 11,
   "id": "98913588",
   "metadata": {},
   "outputs": [
    {
     "name": "stdout",
     "output_type": "stream",
     "text": [
      "[7, 14]\n"
     ]
    }
   ],
   "source": [
    "index = Index(t, 2)\n",
    "print(queryIndex(p, t, index))"
   ]
  },
  {
   "cell_type": "code",
   "execution_count": 12,
   "id": "1d6e9bd6",
   "metadata": {},
   "outputs": [
    {
     "data": {
      "text/plain": [
       "<__main__.Index at 0x1f182b19fd0>"
      ]
     },
     "execution_count": 12,
     "metadata": {},
     "output_type": "execute_result"
    }
   ],
   "source": [
    "index"
   ]
  },
  {
   "cell_type": "code",
   "execution_count": 13,
   "id": "233c3b1c",
   "metadata": {},
   "outputs": [
    {
     "data": {
      "text/plain": [
       "[('AA', 12),\n",
       " ('AC', 3),\n",
       " ('AG', 10),\n",
       " ('AT', 6),\n",
       " ('AT', 13),\n",
       " ('CG', 4),\n",
       " ('CT', 1),\n",
       " ('CT', 8),\n",
       " ('CT', 15),\n",
       " ('GA', 5),\n",
       " ('GA', 11),\n",
       " ('GC', 0),\n",
       " ('TA', 2),\n",
       " ('TA', 9),\n",
       " ('TA', 16),\n",
       " ('TC', 7),\n",
       " ('TC', 14)]"
      ]
     },
     "execution_count": 13,
     "metadata": {},
     "output_type": "execute_result"
    }
   ],
   "source": [
    "index.index"
   ]
  },
  {
   "cell_type": "code",
   "execution_count": 15,
   "id": "3e3a25a8",
   "metadata": {},
   "outputs": [
    {
     "data": {
      "text/plain": [
       "'TCTA'"
      ]
     },
     "execution_count": 15,
     "metadata": {},
     "output_type": "execute_result"
    }
   ],
   "source": [
    "t[7:11]"
   ]
  },
  {
   "cell_type": "code",
   "execution_count": 16,
   "id": "0f7fc935",
   "metadata": {},
   "outputs": [
    {
     "data": {
      "text/plain": [
       "'TCTA'"
      ]
     },
     "execution_count": 16,
     "metadata": {},
     "output_type": "execute_result"
    }
   ],
   "source": [
    "t[14:18]"
   ]
  },
  {
   "cell_type": "code",
   "execution_count": null,
   "id": "229f5916",
   "metadata": {},
   "outputs": [],
   "source": []
  }
 ],
 "metadata": {
  "kernelspec": {
   "display_name": "Python 3 (ipykernel)",
   "language": "python",
   "name": "python3"
  },
  "language_info": {
   "codemirror_mode": {
    "name": "ipython",
    "version": 3
   },
   "file_extension": ".py",
   "mimetype": "text/x-python",
   "name": "python",
   "nbconvert_exporter": "python",
   "pygments_lexer": "ipython3",
   "version": "3.9.7"
  }
 },
 "nbformat": 4,
 "nbformat_minor": 5
}
