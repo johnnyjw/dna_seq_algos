{
 "cells": [
  {
   "cell_type": "code",
   "execution_count": 1,
   "id": "e91ff8cf",
   "metadata": {},
   "outputs": [],
   "source": [
    "s = 'ACGT'"
   ]
  },
  {
   "cell_type": "code",
   "execution_count": 2,
   "id": "5ef6132d",
   "metadata": {},
   "outputs": [
    {
     "data": {
      "text/plain": [
       "4"
      ]
     },
     "execution_count": 2,
     "metadata": {},
     "output_type": "execute_result"
    }
   ],
   "source": [
    "len(s)"
   ]
  },
  {
   "cell_type": "code",
   "execution_count": 3,
   "id": "0cec1355",
   "metadata": {},
   "outputs": [
    {
     "data": {
      "text/plain": [
       "'A'"
      ]
     },
     "execution_count": 3,
     "metadata": {},
     "output_type": "execute_result"
    }
   ],
   "source": [
    "s[0]"
   ]
  },
  {
   "cell_type": "code",
   "execution_count": 4,
   "id": "6b04f3c5",
   "metadata": {},
   "outputs": [
    {
     "data": {
      "text/plain": [
       "'G'"
      ]
     },
     "execution_count": 4,
     "metadata": {},
     "output_type": "execute_result"
    }
   ],
   "source": [
    "s[2]"
   ]
  },
  {
   "cell_type": "code",
   "execution_count": 5,
   "id": "ac1306a6",
   "metadata": {},
   "outputs": [],
   "source": [
    "t='GGTT'"
   ]
  },
  {
   "cell_type": "code",
   "execution_count": 7,
   "id": "97eee861",
   "metadata": {},
   "outputs": [
    {
     "data": {
      "text/plain": [
       "'ACGTGGTT'"
      ]
     },
     "execution_count": 7,
     "metadata": {},
     "output_type": "execute_result"
    }
   ],
   "source": [
    "# concatenation\n",
    "s + t"
   ]
  },
  {
   "cell_type": "code",
   "execution_count": 8,
   "id": "aa2655d8",
   "metadata": {},
   "outputs": [],
   "source": [
    "s= 'AACCGGTT'"
   ]
  },
  {
   "cell_type": "code",
   "execution_count": 9,
   "id": "23456e49",
   "metadata": {},
   "outputs": [
    {
     "data": {
      "text/plain": [
       "'CCGG'"
      ]
     },
     "execution_count": 9,
     "metadata": {},
     "output_type": "execute_result"
    }
   ],
   "source": [
    "#substring\n",
    "s[2:6]"
   ]
  },
  {
   "cell_type": "code",
   "execution_count": 10,
   "id": "6487c201",
   "metadata": {},
   "outputs": [
    {
     "data": {
      "text/plain": [
       "'AACCGG'"
      ]
     },
     "execution_count": 10,
     "metadata": {},
     "output_type": "execute_result"
    }
   ],
   "source": [
    "#prefix\n",
    "s[0:6]"
   ]
  },
  {
   "cell_type": "code",
   "execution_count": 12,
   "id": "c0a5e529",
   "metadata": {},
   "outputs": [
    {
     "data": {
      "text/plain": [
       "'AACCGG'"
      ]
     },
     "execution_count": 12,
     "metadata": {},
     "output_type": "execute_result"
    }
   ],
   "source": [
    "#prefix too\n",
    "s[:6]"
   ]
  },
  {
   "cell_type": "code",
   "execution_count": 13,
   "id": "efcc07be",
   "metadata": {},
   "outputs": [
    {
     "data": {
      "text/plain": [
       "'GGTT'"
      ]
     },
     "execution_count": 13,
     "metadata": {},
     "output_type": "execute_result"
    }
   ],
   "source": [
    "#suffix\n",
    "s[4:8]"
   ]
  },
  {
   "cell_type": "code",
   "execution_count": 14,
   "id": "1cedcbe2",
   "metadata": {},
   "outputs": [
    {
     "data": {
      "text/plain": [
       "'GGTT'"
      ]
     },
     "execution_count": 14,
     "metadata": {},
     "output_type": "execute_result"
    }
   ],
   "source": [
    "#suffix too\n",
    "s[-4:]"
   ]
  },
  {
   "cell_type": "code",
   "execution_count": 15,
   "id": "0cc57388",
   "metadata": {},
   "outputs": [
    {
     "name": "stdout",
     "output_type": "stream",
     "text": [
      "ATCG\n"
     ]
    }
   ],
   "source": [
    "# join function\n",
    "seqs = ['A', 'T', 'C', 'G']\n",
    "print(''.join(seqs))"
   ]
  },
  {
   "cell_type": "code",
   "execution_count": 16,
   "id": "22ff945c",
   "metadata": {},
   "outputs": [
    {
     "name": "stdout",
     "output_type": "stream",
     "text": [
      "A,T,C,G\n"
     ]
    }
   ],
   "source": [
    "print(','.join(seqs))"
   ]
  },
  {
   "cell_type": "code",
   "execution_count": 17,
   "id": "15c925d0",
   "metadata": {},
   "outputs": [
    {
     "data": {
      "text/plain": [
       "'G'"
      ]
     },
     "execution_count": 17,
     "metadata": {},
     "output_type": "execute_result"
    }
   ],
   "source": [
    "#random choices\n",
    "import random\n",
    "random.choice('ACGT')"
   ]
  },
  {
   "cell_type": "code",
   "execution_count": 18,
   "id": "6035cad3",
   "metadata": {},
   "outputs": [
    {
     "data": {
      "text/plain": [
       "'G'"
      ]
     },
     "execution_count": 18,
     "metadata": {},
     "output_type": "execute_result"
    }
   ],
   "source": [
    "random.seed(7)\n",
    "random.choice('ACGT')"
   ]
  },
  {
   "cell_type": "code",
   "execution_count": 20,
   "id": "659f48ee",
   "metadata": {},
   "outputs": [
    {
     "name": "stdout",
     "output_type": "stream",
     "text": [
      "TCAAAGATAA\n"
     ]
    }
   ],
   "source": [
    "seq = ''\n",
    "for _ in range(10):\n",
    "        seq += random.choice('ATGC')\n",
    "        \n",
    "print(seq)"
   ]
  },
  {
   "cell_type": "code",
   "execution_count": 23,
   "id": "dcabec83",
   "metadata": {},
   "outputs": [
    {
     "name": "stdout",
     "output_type": "stream",
     "text": [
      "CACGAAACTT\n"
     ]
    }
   ],
   "source": [
    "seq = ''.join([random.choice('ACGT') for _ in range(10)])\n",
    "print (seq)"
   ]
  },
  {
   "cell_type": "code",
   "execution_count": 25,
   "id": "043add1c",
   "metadata": {},
   "outputs": [
    {
     "data": {
      "text/plain": [
       "'ACC'"
      ]
     },
     "execution_count": 25,
     "metadata": {},
     "output_type": "execute_result"
    }
   ],
   "source": [
    "# find the longest common prefix between two strings\n",
    "\n",
    "def longestCommonPrefix(s1, s2):\n",
    "    i = 0\n",
    "    while i < len(s1) and i < len(s2) and s1[i] == s2[i]:\n",
    "        i += 1\n",
    "    return s1[:i]\n",
    "\n",
    "longestCommonPrefix('ACCATGT', 'ACCTGGT')"
   ]
  },
  {
   "cell_type": "code",
   "execution_count": 27,
   "id": "4cb87f79",
   "metadata": {},
   "outputs": [
    {
     "data": {
      "text/plain": [
       "True"
      ]
     },
     "execution_count": 27,
     "metadata": {},
     "output_type": "execute_result"
    }
   ],
   "source": [
    "# find out if two strings match\n",
    "\n",
    "def match(s1, s2):\n",
    "    if not len(s1) == len(s2):\n",
    "        return False\n",
    "    \n",
    "    for i in range (len(s1)):\n",
    "        if not s1[i] == s2[i]:\n",
    "            return False\n",
    "        \n",
    "    return True\n",
    "\n",
    "match('ATGCT', 'ATGCT')"
   ]
  },
  {
   "cell_type": "code",
   "execution_count": 28,
   "id": "1c201431",
   "metadata": {},
   "outputs": [
    {
     "data": {
      "text/plain": [
       "False"
      ]
     },
     "execution_count": 28,
     "metadata": {},
     "output_type": "execute_result"
    }
   ],
   "source": [
    "match('A', 'GGGT')"
   ]
  },
  {
   "cell_type": "code",
   "execution_count": 29,
   "id": "91a8e04e",
   "metadata": {},
   "outputs": [
    {
     "data": {
      "text/plain": [
       "False"
      ]
     },
     "execution_count": 29,
     "metadata": {},
     "output_type": "execute_result"
    }
   ],
   "source": [
    "match('ATGC', 'ATCC')"
   ]
  },
  {
   "cell_type": "code",
   "execution_count": 30,
   "id": "5d05483a",
   "metadata": {},
   "outputs": [
    {
     "data": {
      "text/plain": [
       "True"
      ]
     },
     "execution_count": 30,
     "metadata": {},
     "output_type": "execute_result"
    }
   ],
   "source": [
    "# but python does this already\n",
    "'ATGC' == 'ATGC'"
   ]
  },
  {
   "cell_type": "code",
   "execution_count": 31,
   "id": "867c943e",
   "metadata": {},
   "outputs": [
    {
     "data": {
      "text/plain": [
       "False"
      ]
     },
     "execution_count": 31,
     "metadata": {},
     "output_type": "execute_result"
    }
   ],
   "source": [
    "'ATGGGGG' == 'ATGGGGC'"
   ]
  },
  {
   "cell_type": "code",
   "execution_count": 33,
   "id": "3d6e9de9",
   "metadata": {},
   "outputs": [
    {
     "data": {
      "text/plain": [
       "'AGATTGG'"
      ]
     },
     "execution_count": 33,
     "metadata": {},
     "output_type": "execute_result"
    }
   ],
   "source": [
    "# make a complement\n",
    "\n",
    "def reverseComplement(s):\n",
    "    complement = {'A':'T', 'C': 'G', 'T': 'A', 'G': 'C'}\n",
    "    t = ''\n",
    "    for base in s:\n",
    "        # adding to the front rather than back for reverse\n",
    "        t = complement[base] + t\n",
    "    return t\n",
    "        \n",
    "reverseComplement('CCAATCT')"
   ]
  },
  {
   "cell_type": "code",
   "execution_count": null,
   "id": "a637edc9",
   "metadata": {},
   "outputs": [],
   "source": []
  }
 ],
 "metadata": {
  "kernelspec": {
   "display_name": "Python 3 (ipykernel)",
   "language": "python",
   "name": "python3"
  },
  "language_info": {
   "codemirror_mode": {
    "name": "ipython",
    "version": 3
   },
   "file_extension": ".py",
   "mimetype": "text/x-python",
   "name": "python",
   "nbconvert_exporter": "python",
   "pygments_lexer": "ipython3",
   "version": "3.9.7"
  }
 },
 "nbformat": 4,
 "nbformat_minor": 5
}
