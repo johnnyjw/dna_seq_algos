{
 "cells": [
  {
   "cell_type": "code",
   "execution_count": 2,
   "id": "ef47f94f",
   "metadata": {},
   "outputs": [
    {
     "data": {
      "text/plain": [
       "40"
      ]
     },
     "execution_count": 2,
     "metadata": {},
     "output_type": "execute_result"
    }
   ],
   "source": [
    "# look for offset of a part of the string - my first regex\n",
    "t = 'There would have been a time for such a word'\n",
    "t.find('word')"
   ]
  },
  {
   "cell_type": "code",
   "execution_count": 8,
   "id": "e2a2af51",
   "metadata": {},
   "outputs": [],
   "source": [
    "#naive matching algorithm - try all lineups of pattern against string\n",
    "def naive(p, t):\n",
    "    occurrences = []\n",
    "    for i in range(len(t) - len(p) + 1): # loop over alignments\n",
    "        match = True\n",
    "        for j in range(len(p)):          # loop over characters\n",
    "            if t[i + j] != p[j]:         # compare characters\n",
    "                match = False            # mismatch; reject alignment\n",
    "                break\n",
    "        if match:\n",
    "            occurrences.append(i)         # all chars matched; record\n",
    "    return occurrences\n",
    "\n"
   ]
  },
  {
   "cell_type": "code",
   "execution_count": 4,
   "id": "61920fc8",
   "metadata": {},
   "outputs": [
    {
     "name": "stderr",
     "output_type": "stream",
     "text": [
      "SYSTEM_WGETRC = c:/progra~1/wget/etc/wgetrc\n",
      "syswgetrc = C:\\Program Files (x86)\\GnuWin32/etc/wgetrc\n",
      "--2022-02-04 15:53:28--  https://d28rh4a8wq0iu5.cloudfront.net/ads1/data/phix.fa\n",
      "Resolving d28rh4a8wq0iu5.cloudfront.net... 52.84.93.54, 52.84.93.3, 52.84.93.164, ...\n",
      "Connecting to d28rh4a8wq0iu5.cloudfront.net|52.84.93.54|:443... connected.\n",
      "WARNING: cannot verify d28rh4a8wq0iu5.cloudfront.net's certificate, issued by `/C=US/O=Amazon/OU=Server CA 1B/CN=Amazon':\n",
      "  Unable to locally verify the issuer's authority.\n",
      "HTTP request sent, awaiting response... 200 OK\n",
      "Length: 5528 (5.4K) [application/octet-stream]\n",
      "Saving to: `phix.fa'\n",
      "\n",
      "     0K .....                                                 100% 5.71M=0.001s\n",
      "\n",
      "2022-02-04 15:53:29 (5.71 MB/s) - `phix.fa' saved [5528/5528]\n",
      "\n"
     ]
    }
   ],
   "source": [
    "!\"C:\\Program Files (x86)\\GnuWin32\\bin\\wget\" --no-check-certificate https://d28rh4a8wq0iu5.cloudfront.net/ads1/data/phix.fa"
   ]
  },
  {
   "cell_type": "code",
   "execution_count": 5,
   "id": "9e19b953",
   "metadata": {},
   "outputs": [],
   "source": [
    "def readGenome(filename):\n",
    "    genome = ''\n",
    "    with open(filename, 'r') as f:\n",
    "        for line in f:\n",
    "            if not line[0] == \">\":\n",
    "                # rstrip removes trailing whitespace\n",
    "                genome += line.rstrip()\n",
    "    return genome"
   ]
  },
  {
   "cell_type": "code",
   "execution_count": 6,
   "id": "0dd1812e",
   "metadata": {},
   "outputs": [],
   "source": [
    "genome = readGenome('phix.fa')"
   ]
  },
  {
   "cell_type": "code",
   "execution_count": 9,
   "id": "9dd2a00e",
   "metadata": {},
   "outputs": [
    {
     "data": {
      "text/plain": [
       "[0, 5, 9]"
      ]
     },
     "execution_count": 9,
     "metadata": {},
     "output_type": "execute_result"
    }
   ],
   "source": [
    "t = 'AGCTTAGATAGC'\n",
    "p = 'AG'\n",
    "naive(p, t)"
   ]
  },
  {
   "cell_type": "code",
   "execution_count": 11,
   "id": "06d22fdb",
   "metadata": {},
   "outputs": [],
   "source": [
    "# generate random reads from the genome\n",
    "import random\n",
    "def generateReads(genome, numReads, readLen):\n",
    "    '''Generate reads from random positions in the given genome.'''\n",
    "    \n",
    "    reads = []\n",
    "    for _ in range(numReads):\n",
    "        start = random.randint(0, len(genome) - readLen) - 1\n",
    "        reads.append(genome[start : start+readLen])\n",
    "    return reads"
   ]
  },
  {
   "cell_type": "code",
   "execution_count": 14,
   "id": "1c6c3bbf",
   "metadata": {},
   "outputs": [
    {
     "name": "stdout",
     "output_type": "stream",
     "text": [
      "100/ 100 reads matched exactly!\n"
     ]
    }
   ],
   "source": [
    "reads = generateReads(genome, 100, 100)\n",
    "\n",
    "numMatched = 0\n",
    "for r in reads:\n",
    "    matches = naive(r, genome)\n",
    "    if len(matches) > 0:\n",
    "        numMatched += 1\n",
    "        \n",
    "print('%d/ %d reads matched exactly!' % (numMatched, len(reads)))\n"
   ]
  },
  {
   "cell_type": "code",
   "execution_count": 15,
   "id": "0960f8ee",
   "metadata": {},
   "outputs": [
    {
     "name": "stderr",
     "output_type": "stream",
     "text": [
      "SYSTEM_WGETRC = c:/progra~1/wget/etc/wgetrc\n",
      "syswgetrc = C:\\Program Files (x86)\\GnuWin32/etc/wgetrc\n",
      "--2022-02-04 16:04:32--  https://d28rh4a8wq0iu5.cloudfront.net/ads1/data/ERR266411_1.first1000.fastq\n",
      "Resolving d28rh4a8wq0iu5.cloudfront.net... 52.84.93.54, 52.84.93.77, 52.84.93.3, ...\n",
      "Connecting to d28rh4a8wq0iu5.cloudfront.net|52.84.93.54|:443... connected.\n",
      "WARNING: cannot verify d28rh4a8wq0iu5.cloudfront.net's certificate, issued by `/C=US/O=Amazon/OU=Server CA 1B/CN=Amazon':\n",
      "  Unable to locally verify the issuer's authority.\n",
      "HTTP request sent, awaiting response... 200 OK\n",
      "Length: 254384 (248K) [audio/mpeg]\n",
      "Saving to: `ERR266411_1.first1000.fastq'\n",
      "\n",
      "     0K .......... .......... .......... .......... .......... 20%  257K 1s\n",
      "    50K .......... .......... .......... .......... .......... 40%  368K 0s\n",
      "   100K .......... .......... .......... .......... .......... 60%  490K 0s\n",
      "   150K .......... .......... .......... .......... .......... 80%  692K 0s\n",
      "   200K .......... .......... .......... .......... ........  100%  498K=0.6s\n",
      "\n",
      "2022-02-04 16:04:34 (413 KB/s) - `ERR266411_1.first1000.fastq' saved [254384/254384]\n",
      "\n"
     ]
    }
   ],
   "source": [
    "# real reads\n",
    "!\"C:\\Program Files (x86)\\GnuWin32\\bin\\wget\" --no-check-certificate https://d28rh4a8wq0iu5.cloudfront.net/ads1/data/ERR266411_1.first1000.fastq"
   ]
  },
  {
   "cell_type": "code",
   "execution_count": 16,
   "id": "51d19f74",
   "metadata": {},
   "outputs": [],
   "source": [
    "def readFastq(filename):\n",
    "    sequences = []\n",
    "    qualities = []\n",
    "    with open(filename) as fh:\n",
    "        while True:\n",
    "            # throwing away this line\n",
    "            fh.readline()\n",
    "            # read in a line and strip the whitespace\n",
    "            seq = fh.readline().rstrip()\n",
    "            # also throwing away this line\n",
    "            fh.readline()\n",
    "            qual = fh.readline().rstrip()\n",
    "            # checking if no more sequences to read\n",
    "            if len(seq) == 0:\n",
    "                # break out of while\n",
    "                break\n",
    "            sequences.append(seq)\n",
    "            qualities.append(qual)\n",
    "    return sequences, qualities"
   ]
  },
  {
   "cell_type": "code",
   "execution_count": 17,
   "id": "75ffad8a",
   "metadata": {},
   "outputs": [],
   "source": [
    "phix_reads, _ = readFastq('ERR266411_1.first1000.fastq')"
   ]
  },
  {
   "cell_type": "code",
   "execution_count": 18,
   "id": "06099b7a",
   "metadata": {},
   "outputs": [
    {
     "name": "stdout",
     "output_type": "stream",
     "text": [
      "7 / 1000 reads matched the genome!\n"
     ]
    }
   ],
   "source": [
    "numMatched = 0\n",
    "n = 0\n",
    "for r in phix_reads:\n",
    "    matches = naive(r, genome)\n",
    "    n += 1\n",
    "    if len(matches) > 0:\n",
    "        numMatched += 1\n",
    "        \n",
    "print('%d / %d reads matched the genome!' % (numMatched, n))"
   ]
  },
  {
   "cell_type": "code",
   "execution_count": 19,
   "id": "fc596e32",
   "metadata": {},
   "outputs": [
    {
     "name": "stdout",
     "output_type": "stream",
     "text": [
      "459 / 1000 reads matched the genome!\n"
     ]
    }
   ],
   "source": [
    "# reattempt using only the first 30 bases of each read\n",
    "numMatched = 0\n",
    "n = 0\n",
    "for r in phix_reads:\n",
    "    r = r[:30]                       # first thirty bases\n",
    "    matches = naive(r, genome)\n",
    "    n += 1\n",
    "    if len(matches) > 0:\n",
    "        numMatched += 1\n",
    "        \n",
    "print('%d / %d reads matched the genome!' % (numMatched, n))"
   ]
  },
  {
   "cell_type": "code",
   "execution_count": 22,
   "id": "73915301",
   "metadata": {},
   "outputs": [],
   "source": [
    "# also get reverse complements\n",
    "# from previous lecture but also 'N' added to dictionary\n",
    "\n",
    "def reverseComplement(s):\n",
    "    complement = {'A':'T', 'C': 'G', 'T': 'A', 'G': 'C', 'N' : 'N'}\n",
    "    t = ''\n",
    "    for base in s:\n",
    "        # adding to the front rather than back for reverse\n",
    "        t = complement[base] + t\n",
    "    return t"
   ]
  },
  {
   "cell_type": "code",
   "execution_count": 23,
   "id": "9b0eb85b",
   "metadata": {},
   "outputs": [
    {
     "name": "stdout",
     "output_type": "stream",
     "text": [
      "932 / 1000 reads matched the genome!\n"
     ]
    }
   ],
   "source": [
    "numMatched = 0\n",
    "n = 0\n",
    "for r in phix_reads:\n",
    "    r = r[:30]                       # first thirty bases\n",
    "    matches = naive(r, genome)                           # look at forward\n",
    "    matches.extend(naive(reverseComplement(r), genome))  # also look at reverse complement\n",
    "    n += 1\n",
    "    if len(matches) > 0:\n",
    "        numMatched += 1\n",
    "        \n",
    "print('%d / %d reads matched the genome!' % (numMatched, n))"
   ]
  },
  {
   "cell_type": "code",
   "execution_count": null,
   "id": "60353f10",
   "metadata": {},
   "outputs": [],
   "source": []
  }
 ],
 "metadata": {
  "kernelspec": {
   "display_name": "Python 3 (ipykernel)",
   "language": "python",
   "name": "python3"
  },
  "language_info": {
   "codemirror_mode": {
    "name": "ipython",
    "version": 3
   },
   "file_extension": ".py",
   "mimetype": "text/x-python",
   "name": "python",
   "nbconvert_exporter": "python",
   "pygments_lexer": "ipython3",
   "version": "3.9.7"
  }
 },
 "nbformat": 4,
 "nbformat_minor": 5
}
